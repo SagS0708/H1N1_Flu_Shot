{
  "nbformat": 4,
  "nbformat_minor": 0,
  "metadata": {
    "colab": {
      "name": "H1N1andSesonal.ipynb",
      "provenance": []
    },
    "kernelspec": {
      "name": "python3",
      "display_name": "Python 3"
    },
    "language_info": {
      "name": "python"
    }
  },
  "cells": [
    {
      "cell_type": "code",
      "execution_count": null,
      "metadata": {
        "id": "Qx3QpcDKcG5Z"
      },
      "outputs": [],
      "source": [
        "import pandas as pd\n",
        "from google.colab import drive"
      ]
    },
    {
      "cell_type": "code",
      "source": [
        "drive.mount(\"/content/drive\")"
      ],
      "metadata": {
        "colab": {
          "base_uri": "https://localhost:8080/"
        },
        "id": "KiUhgk82cMQB",
        "outputId": "71fd6d76-28f6-4383-f45f-6f0e59887892"
      },
      "execution_count": null,
      "outputs": [
        {
          "output_type": "stream",
          "name": "stdout",
          "text": [
            "Mounted at /content/drive\n"
          ]
        }
      ]
    },
    {
      "cell_type": "code",
      "source": [
        "T=pd.read_csv(\"/content/drive/MyDrive/Colab Notebooks/H1N1 Flu Shot/H1n1Pred.csv\")"
      ],
      "metadata": {
        "id": "cvBvlLMYcP2C"
      },
      "execution_count": null,
      "outputs": []
    },
    {
      "cell_type": "code",
      "source": [
        "S=pd.read_csv(\"/content/drive/MyDrive/Colab Notebooks/H1N1 Flu Shot/SeasonalPred.csv\")"
      ],
      "metadata": {
        "id": "2M2aoajkcrtG"
      },
      "execution_count": null,
      "outputs": []
    },
    {
      "cell_type": "code",
      "source": [
        "T.columns"
      ],
      "metadata": {
        "colab": {
          "base_uri": "https://localhost:8080/"
        },
        "id": "gPonZtB1cu7_",
        "outputId": "7faa0327-b607-4de8-f9c2-7e9b92954d99"
      },
      "execution_count": null,
      "outputs": [
        {
          "output_type": "execute_result",
          "data": {
            "text/plain": [
              "Index(['Unnamed: 0', 'respondent_id', 'h1n1_vaccine_pred'], dtype='object')"
            ]
          },
          "metadata": {},
          "execution_count": 19
        }
      ]
    },
    {
      "cell_type": "code",
      "source": [
        "S.columns"
      ],
      "metadata": {
        "colab": {
          "base_uri": "https://localhost:8080/"
        },
        "id": "O9xeklUccwzV",
        "outputId": "17e9d2c1-3580-4e85-ed1f-2c8907cdad2a"
      },
      "execution_count": null,
      "outputs": [
        {
          "output_type": "execute_result",
          "data": {
            "text/plain": [
              "Index(['Unnamed: 0', 'respondent_id', 'h1n1_vaccine_pred'], dtype='object')"
            ]
          },
          "metadata": {},
          "execution_count": 20
        }
      ]
    },
    {
      "cell_type": "code",
      "source": [
        "Submission=pd.merge(left=T,right=S,how=\"outer\",left_on=\"respondent_id\",right_on=\"respondent_id\")"
      ],
      "metadata": {
        "id": "oa8B6lVKcyNP"
      },
      "execution_count": null,
      "outputs": []
    },
    {
      "cell_type": "code",
      "source": [
        "Submission.drop(labels=[\"Unnamed: 0_x\",\"Unnamed: 0_y\"],axis=1,inplace=True)"
      ],
      "metadata": {
        "id": "yb0lsjTBcz27"
      },
      "execution_count": null,
      "outputs": []
    },
    {
      "cell_type": "code",
      "source": [
        "Submission.columns=[\"respondent_id\",\"h1n1_vaccine\",\"seasonal_vaccine\"]"
      ],
      "metadata": {
        "id": "qLSmZEY5dVhs"
      },
      "execution_count": null,
      "outputs": []
    },
    {
      "cell_type": "code",
      "source": [
        "Submission.set_index(\"respondent_id\",inplace=True)"
      ],
      "metadata": {
        "id": "-lzaSrqVdYAG"
      },
      "execution_count": null,
      "outputs": []
    },
    {
      "cell_type": "code",
      "source": [
        "Submission[\"h1n1_vaccine\"]=Submission[\"h1n1_vaccine\"].astype(float)"
      ],
      "metadata": {
        "id": "3zYNx7sdf77A"
      },
      "execution_count": null,
      "outputs": []
    },
    {
      "cell_type": "code",
      "source": [
        "Submission[\"seasonal_vaccine\"]=Submission[\"seasonal_vaccine\"].astype(float)"
      ],
      "metadata": {
        "id": "q4lsofhWf7-v"
      },
      "execution_count": null,
      "outputs": []
    },
    {
      "cell_type": "code",
      "source": [
        "Submission.to_csv(\"MySubmission.csv\")"
      ],
      "metadata": {
        "id": "eW-oFQbqeM_B"
      },
      "execution_count": null,
      "outputs": []
    },
    {
      "cell_type": "code",
      "source": [
        ""
      ],
      "metadata": {
        "id": "wqbJWQQceQ-8"
      },
      "execution_count": null,
      "outputs": []
    }
  ]
}